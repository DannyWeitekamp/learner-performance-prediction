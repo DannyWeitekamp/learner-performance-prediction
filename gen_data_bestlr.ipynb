{
 "cells": [
  {
   "cell_type": "code",
   "execution_count": 1,
   "metadata": {},
   "outputs": [],
   "source": [
    "# from statsmodels.genmod.families.links import Logit\n",
    "import numpy as np\n",
    "import pandas as pd\n",
    "from tqdm import tqdm\n",
    "\n",
    "import pickle\n",
    "import joblib\n",
    "\n",
    "from scipy.sparse import load_npz, csr_matrix\n",
    "\n",
    "datasets = ['algebra05', 'assistments09', 'assistments15', 'assistments17', 'bridge_algebra06', 'spanish', 'statics'] # 'assistments12'\n",
    "\n",
    "pd.set_option('display.max_rows', None)\n",
    "# pd.reset_option('display.max_rows')\n",
    "\n",
    "def loading(iters):\n",
    "    return tqdm(iters, desc=\"Running ...\", ascii=False, ncols=75)\n",
    "\n",
    "def inv_logit(z):\n",
    "  return 1 / (1 + np.exp(-z))\n",
    "\n",
    "def calc_pfa_prob(s_opp, f_opp, s_slope, f_slope, stu_intercept, kc_intercept, ovr_intercept):\n",
    "  z = (s_slope * s_opp) + (f_slope * f_opp) + stu_intercept + kc_intercept + ovr_intercept\n",
    "  return inv_logit(z)"
   ]
  },
  {
   "cell_type": "code",
   "execution_count": 31,
   "metadata": {},
   "outputs": [],
   "source": [
    "# import encode_fast as ef\n",
    "\n",
    "# ACTIVE_FEATURES = ['i', 's', 'ic', 'sc', 'tc', 'w', 'a']\n",
    "# def simulate_bestlr(ds):\n",
    "#   csv_fp = f'./data/real/{ds}/preprocessed_data.csv'\n",
    "#   model_fp = f'./data/real/{ds}/real-model.sav'\n",
    "#   q_fp = f'./data/real/{ds}/q_mat.npz'\n",
    "\n",
    "#   columns = ['user_id', 'item_id', 'timestamp', 'correct', 'skill_id', 's_opp', 'f_opp', 'prob']\n",
    "#   opps = {}\n",
    "#   rows = []\n",
    "#   df = pd.read_csv(csv_fp, delimiter='\\t')\n",
    "#   Q_mat = load_npz(q_fp).toarray()\n",
    "\n",
    "#   X = csr_matrix(load_npz(npz_fp))\n",
    "#   X = X[:, 5:]\n",
    "#   model = pickle.load(open(model_fp, 'rb'))\n",
    "  \n",
    "#   for idx, row in loading(list(df.iterrows())):\n",
    "#     user_id = row['user_id']\n",
    "#     skill_id = row['skill_id']\n",
    "\n",
    "#     if user_id not in opps:\n",
    "#       opps[user_id] = {}\n",
    "#     if skill_id not in opps[user_id]:\n",
    "#       opps[user_id][skill_id] = {'s': 0, 'f': 0}\n",
    "\n",
    "#     prior_s = opps[user_id][skill_id]['s']\n",
    "#     prior_f = opps[user_id][skill_id]['f']\n",
    "\n",
    "#     dat = pd.DataFrame([[user_id, row['item_id'], row['timestamp'], None, skill_id, prior_s, prior_f, None]], columns=columns)\n",
    "\n",
    "#     # user_id\titem_id\ttimestamp\tcorrect\tskill_id\n",
    "#     cur_df = df.Dataframe([], columns=df.columns)\n",
    "#     X = ef.df_to_sparse(df, Q_mat, ACTIVE_FEATURES)\n",
    "#     X = X[:, 5:]\n",
    "#     prob = model.predict_proba(X[idx])[0][1]\n",
    "#     correct = np.random.choice([1, 0], p=[prob, 1-prob])\n",
    "\n",
    "#     opps[user_id][skill_id]['s' if correct == 1 else 'f'] += 1\n",
    "\n",
    "#     dat['prob'] = prob\n",
    "#     dat['correct'] = correct\n",
    "#     rows.append(dat)\n",
    "    \n",
    "#   final = pd.concat(rows, axis=0)\n",
    "#   final.to_csv(f'./simulation/simulated-data/{ds}.csv', index=False, sep='\\t')\n",
    "\n",
    "# # simulate_bestlr('./data/statics/preprocessed_data.csv', './data/statics/X-isicsctcwa.npz', './data/statics/real-model.sav', 'statics')\n",
    "# # simulate('data/spanish/preprocessed_data.csv', 'spanish')"
   ]
  },
  {
   "cell_type": "code",
   "execution_count": 48,
   "metadata": {},
   "outputs": [
    {
     "name": "stderr",
     "output_type": "stream",
     "text": [
      "Running ...:   0%|                                 | 0/567 [00:09<?, ?it/s]\n"
     ]
    },
    {
     "ename": "KeyboardInterrupt",
     "evalue": "",
     "output_type": "error",
     "traceback": [
      "\u001b[0;31m---------------------------------------------------------------------------\u001b[0m",
      "\u001b[0;31mKeyboardInterrupt\u001b[0m                         Traceback (most recent call last)",
      "\u001b[0;32m/var/folders/xg/0n3sngrn26qgkz7725ccd7n40000gn/T/ipykernel_7963/2163586555.py\u001b[0m in \u001b[0;36m<module>\u001b[0;34m\u001b[0m\n\u001b[1;32m     48\u001b[0m   \u001b[0mfinal\u001b[0m\u001b[0;34m.\u001b[0m\u001b[0mto_csv\u001b[0m\u001b[0;34m(\u001b[0m\u001b[0;34mf'./simulation/simulated-data/{ds}/foo.csv'\u001b[0m\u001b[0;34m,\u001b[0m \u001b[0mindex\u001b[0m\u001b[0;34m=\u001b[0m\u001b[0;32mFalse\u001b[0m\u001b[0;34m,\u001b[0m \u001b[0msep\u001b[0m\u001b[0;34m=\u001b[0m\u001b[0;34m'\\t'\u001b[0m\u001b[0;34m)\u001b[0m\u001b[0;34m\u001b[0m\u001b[0;34m\u001b[0m\u001b[0m\n\u001b[1;32m     49\u001b[0m \u001b[0;34m\u001b[0m\u001b[0m\n\u001b[0;32m---> 50\u001b[0;31m \u001b[0msimulate_bestlr\u001b[0m\u001b[0;34m(\u001b[0m\u001b[0;34m'algebra05'\u001b[0m\u001b[0;34m)\u001b[0m\u001b[0;34m\u001b[0m\u001b[0;34m\u001b[0m\u001b[0m\n\u001b[0m\u001b[1;32m     51\u001b[0m \u001b[0;31m# simulate('data/spanish/preprocessed_data.csv', 'spanish')\u001b[0m\u001b[0;34m\u001b[0m\u001b[0;34m\u001b[0m\u001b[0;34m\u001b[0m\u001b[0m\n",
      "\u001b[0;32m/var/folders/xg/0n3sngrn26qgkz7725ccd7n40000gn/T/ipykernel_7963/2163586555.py\u001b[0m in \u001b[0;36msimulate_bestlr\u001b[0;34m(ds)\u001b[0m\n\u001b[1;32m     31\u001b[0m       \u001b[0mdat\u001b[0m \u001b[0;34m=\u001b[0m \u001b[0mpd\u001b[0m\u001b[0;34m.\u001b[0m\u001b[0mDataFrame\u001b[0m\u001b[0;34m(\u001b[0m\u001b[0;34m[\u001b[0m\u001b[0;34m[\u001b[0m\u001b[0muser_id\u001b[0m\u001b[0;34m,\u001b[0m \u001b[0mrow\u001b[0m\u001b[0;34m[\u001b[0m\u001b[0;34m'item_id'\u001b[0m\u001b[0;34m]\u001b[0m\u001b[0;34m,\u001b[0m \u001b[0mrow\u001b[0m\u001b[0;34m[\u001b[0m\u001b[0;34m'timestamp'\u001b[0m\u001b[0;34m]\u001b[0m\u001b[0;34m,\u001b[0m \u001b[0;32mNone\u001b[0m\u001b[0;34m,\u001b[0m \u001b[0mskill_id\u001b[0m\u001b[0;34m,\u001b[0m \u001b[0mprior_s\u001b[0m\u001b[0;34m,\u001b[0m \u001b[0mprior_f\u001b[0m\u001b[0;34m,\u001b[0m \u001b[0;32mNone\u001b[0m\u001b[0;34m]\u001b[0m\u001b[0;34m]\u001b[0m\u001b[0;34m,\u001b[0m \u001b[0mcolumns\u001b[0m\u001b[0;34m=\u001b[0m\u001b[0mcolumns\u001b[0m\u001b[0;34m)\u001b[0m\u001b[0;34m\u001b[0m\u001b[0;34m\u001b[0m\u001b[0m\n\u001b[1;32m     32\u001b[0m \u001b[0;34m\u001b[0m\u001b[0m\n\u001b[0;32m---> 33\u001b[0;31m       \u001b[0mX\u001b[0m \u001b[0;34m=\u001b[0m \u001b[0mef\u001b[0m\u001b[0;34m.\u001b[0m\u001b[0mdf_to_sparse\u001b[0m\u001b[0;34m(\u001b[0m\u001b[0mgroup\u001b[0m\u001b[0;34m[\u001b[0m\u001b[0;34m:\u001b[0m\u001b[0midx\u001b[0m\u001b[0;34m+\u001b[0m\u001b[0;36m1\u001b[0m\u001b[0;34m]\u001b[0m\u001b[0;34m,\u001b[0m \u001b[0mQ_mat\u001b[0m\u001b[0;34m,\u001b[0m \u001b[0mACTIVE_FEATURES\u001b[0m\u001b[0;34m)\u001b[0m\u001b[0;34m\u001b[0m\u001b[0;34m\u001b[0m\u001b[0m\n\u001b[0m\u001b[1;32m     34\u001b[0m       \u001b[0mX\u001b[0m \u001b[0;34m=\u001b[0m \u001b[0mX\u001b[0m\u001b[0;34m[\u001b[0m\u001b[0;34m:\u001b[0m\u001b[0;34m,\u001b[0m \u001b[0;36m5\u001b[0m\u001b[0;34m:\u001b[0m\u001b[0;34m]\u001b[0m\u001b[0;34m\u001b[0m\u001b[0;34m\u001b[0m\u001b[0m\n\u001b[1;32m     35\u001b[0m \u001b[0;34m\u001b[0m\u001b[0m\n",
      "\u001b[0;32m/Volumes/NREXT/proj/research/danny-edm/encode_fast.py\u001b[0m in \u001b[0;36mdf_to_sparse\u001b[0;34m(df, Q_mat, active_features)\u001b[0m\n\u001b[1;32m    188\u001b[0m                 \u001b[0mtmp\u001b[0m \u001b[0;34m=\u001b[0m \u001b[0mnp\u001b[0m\u001b[0;34m.\u001b[0m\u001b[0mvstack\u001b[0m\u001b[0;34m(\u001b[0m\u001b[0;34m(\u001b[0m\u001b[0mnp\u001b[0m\u001b[0;34m.\u001b[0m\u001b[0mzeros\u001b[0m\u001b[0;34m(\u001b[0m\u001b[0mnum_skills\u001b[0m\u001b[0;34m)\u001b[0m\u001b[0;34m,\u001b[0m \u001b[0mskills\u001b[0m\u001b[0;34m)\u001b[0m\u001b[0;34m)\u001b[0m\u001b[0;34m[\u001b[0m\u001b[0;34m:\u001b[0m\u001b[0;34m-\u001b[0m\u001b[0;36m1\u001b[0m\u001b[0;34m]\u001b[0m\u001b[0;34m\u001b[0m\u001b[0;34m\u001b[0m\u001b[0m\n\u001b[1;32m    189\u001b[0m                 \u001b[0mcorrects\u001b[0m \u001b[0;34m=\u001b[0m \u001b[0mnp\u001b[0m\u001b[0;34m.\u001b[0m\u001b[0mhstack\u001b[0m\u001b[0;34m(\u001b[0m\u001b[0;34m(\u001b[0m\u001b[0mnp\u001b[0m\u001b[0;34m.\u001b[0m\u001b[0marray\u001b[0m\u001b[0;34m(\u001b[0m\u001b[0;36m0\u001b[0m\u001b[0;34m)\u001b[0m\u001b[0;34m,\u001b[0m \u001b[0mdf_user\u001b[0m\u001b[0;34m[\u001b[0m\u001b[0;34m:\u001b[0m\u001b[0;34m,\u001b[0m \u001b[0;36m3\u001b[0m\u001b[0;34m]\u001b[0m\u001b[0;34m)\u001b[0m\u001b[0;34m)\u001b[0m\u001b[0;34m.\u001b[0m\u001b[0mreshape\u001b[0m\u001b[0;34m(\u001b[0m\u001b[0;34m-\u001b[0m\u001b[0;36m1\u001b[0m\u001b[0;34m,\u001b[0m \u001b[0;36m1\u001b[0m\u001b[0;34m)\u001b[0m\u001b[0;34m[\u001b[0m\u001b[0;34m:\u001b[0m\u001b[0;34m-\u001b[0m\u001b[0;36m1\u001b[0m\u001b[0;34m]\u001b[0m\u001b[0;34m\u001b[0m\u001b[0;34m\u001b[0m\u001b[0m\n\u001b[0;32m--> 190\u001b[0;31m                 \u001b[0mwins\u001b[0m\u001b[0;34m[\u001b[0m\u001b[0;34m:\u001b[0m\u001b[0;34m,\u001b[0m \u001b[0;34m:\u001b[0m\u001b[0mnum_skills\u001b[0m\u001b[0;34m]\u001b[0m \u001b[0;34m=\u001b[0m \u001b[0mphi\u001b[0m\u001b[0;34m(\u001b[0m\u001b[0mnp\u001b[0m\u001b[0;34m.\u001b[0m\u001b[0mcumsum\u001b[0m\u001b[0;34m(\u001b[0m\u001b[0mtmp\u001b[0m \u001b[0;34m*\u001b[0m \u001b[0mcorrects\u001b[0m\u001b[0;34m,\u001b[0m \u001b[0;36m0\u001b[0m\u001b[0;34m)\u001b[0m \u001b[0;34m*\u001b[0m \u001b[0mskills\u001b[0m\u001b[0;34m)\u001b[0m\u001b[0;34m\u001b[0m\u001b[0;34m\u001b[0m\u001b[0m\n\u001b[0m\u001b[1;32m    191\u001b[0m \u001b[0;34m\u001b[0m\u001b[0m\n\u001b[1;32m    192\u001b[0m             \u001b[0;31m# Past wins for item\u001b[0m\u001b[0;34m\u001b[0m\u001b[0;34m\u001b[0m\u001b[0;34m\u001b[0m\u001b[0m\n",
      "\u001b[0;32m/Volumes/NREXT/proj/research/danny-edm/encode_fast.py\u001b[0m in \u001b[0;36mphi\u001b[0;34m(x)\u001b[0m\n\u001b[1;32m     20\u001b[0m \u001b[0;34m\u001b[0m\u001b[0m\n\u001b[1;32m     21\u001b[0m \u001b[0;32mdef\u001b[0m \u001b[0mphi\u001b[0m\u001b[0;34m(\u001b[0m\u001b[0mx\u001b[0m\u001b[0;34m)\u001b[0m\u001b[0;34m:\u001b[0m\u001b[0;34m\u001b[0m\u001b[0;34m\u001b[0m\u001b[0m\n\u001b[0;32m---> 22\u001b[0;31m     \u001b[0;32mreturn\u001b[0m \u001b[0mnp\u001b[0m\u001b[0;34m.\u001b[0m\u001b[0mlog\u001b[0m\u001b[0;34m(\u001b[0m\u001b[0;36m1\u001b[0m \u001b[0;34m+\u001b[0m \u001b[0mx\u001b[0m\u001b[0;34m)\u001b[0m\u001b[0;34m\u001b[0m\u001b[0;34m\u001b[0m\u001b[0m\n\u001b[0m\u001b[1;32m     23\u001b[0m \u001b[0;34m\u001b[0m\u001b[0m\n\u001b[1;32m     24\u001b[0m \u001b[0mphi_vectorized\u001b[0m \u001b[0;34m=\u001b[0m \u001b[0mnp\u001b[0m\u001b[0;34m.\u001b[0m\u001b[0mvectorize\u001b[0m\u001b[0;34m(\u001b[0m\u001b[0mphi\u001b[0m\u001b[0;34m)\u001b[0m\u001b[0;34m\u001b[0m\u001b[0;34m\u001b[0m\u001b[0m\n",
      "\u001b[0;31mKeyboardInterrupt\u001b[0m: "
     ]
    }
   ],
   "source": [
    "import encode_fast as ef\n",
    "from importlib import reload\n",
    "reload(ef)\n",
    "\n",
    "ACTIVE_FEATURES = ['i', 's', 'ic', 'sc', 'tc', 'w', 'a']\n",
    "def simulate_bestlr(ds):\n",
    "  csv_fp = f'./data/real/{ds}/preprocessed_data.csv'\n",
    "  model_fp = f'./data/real/{ds}/real-model.sav'\n",
    "  q_fp = f'./data/real/{ds}/q_mat.npz'\n",
    "\n",
    "  columns = ['user_id', 'item_id', 'timestamp', 'correct', 'skill_id', 's_opp', 'f_opp', 'prob']\n",
    "  opps = {}\n",
    "  rows = []\n",
    "  df = pd.read_csv(csv_fp, delimiter='\\t')\n",
    "  Q_mat = load_npz(q_fp).toarray()\n",
    "\n",
    "  model = pickle.load(open(model_fp, 'rb'))\n",
    "\n",
    "  for user_id, group in loading(df.groupby('user_id')):\n",
    "    if user_id not in opps:\n",
    "      opps[user_id] = {}\n",
    "\n",
    "    for idx in range(len(group)):\n",
    "      row = group.iloc[idx]\n",
    "      skill_id = row['skill_id']\n",
    "      if skill_id not in opps[user_id]:\n",
    "        opps[user_id][skill_id] = {'s': 0, 'f': 0}\n",
    "\n",
    "      prior_s = opps[user_id][skill_id]['s']\n",
    "      prior_f = opps[user_id][skill_id]['f']\n",
    "      dat = pd.DataFrame([[user_id, row['item_id'], row['timestamp'], None, skill_id, prior_s, prior_f, None]], columns=columns)\n",
    "\n",
    "      X = ef.df_to_sparse(group[:idx+1], Q_mat, ACTIVE_FEATURES)\n",
    "      X = X[:, 5:]\n",
    "\n",
    "      prob = model.predict_proba(X)[0][1]\n",
    "      correct = np.random.choice([1, 0], p=[prob, 1-prob])\n",
    "\n",
    "      df.loc[idx, 'correct'] = correct\n",
    "      opps[user_id][skill_id]['s' if correct == 1 else 'f'] += 1\n",
    "\n",
    "      dat['prob'] = prob\n",
    "      dat['correct'] = correct\n",
    "      rows.append(dat)\n",
    "\n",
    "  final = pd.concat(rows, axis=0)\n",
    "  final.to_csv(f'./simulation/simulated-data/{ds}/{ds}.csv', index=False, sep='\\t')\n",
    "\n",
    "simulate_bestlr('algebra05')\n",
    "# simulate('data/spanish/preprocessed_data.csv', 'spanish')"
   ]
  },
  {
   "cell_type": "code",
   "execution_count": null,
   "metadata": {},
   "outputs": [],
   "source": [
    "import os\n",
    "import encode_fast as ef\n",
    "# for f in os.listdir('./data'):\n",
    "# for f in ['assistments09']:\n",
    "for f in ['algebra05', 'assistments09', 'assistments15', 'assistments17', 'bridge_algebra06', 'spanish', 'statics', 'assistments12']\n",
    "  print(f)\n",
    "  simulate_bestlr(f'./data/{f}/preprocessed_data.csv', f'./data/{f}/real-model.sav', f)\n",
    "\n",
    "# from scipy.sparse import load_npz, csr_matrix\n",
    "# data_fp = \"./data/statics/X-isicsctcwa.npz\"\n",
    "# X = csr_matrix(load_npz(data_fp))"
   ]
  },
  {
   "cell_type": "code",
   "execution_count": 2,
   "metadata": {},
   "outputs": [
    {
     "name": "stdout",
     "output_type": "stream",
     "text": [
      "['algebra05', 'assistments09', 'assistments12', 'assistments15', 'assistments17', 'assistments17_first_attempt', 'assistments17_single_attempt', 'bridge_algebra06', 'spanish', 'statics']\n"
     ]
    }
   ],
   "source": [
    "import os\n",
    "\n",
    "folder_path = \"data\"\n",
    "folders = [f for f in os.listdir(folder_path) if os.path.isdir(os.path.join(folder_path, f))]\n",
    "\n",
    "print(folders)"
   ]
  },
  {
   "cell_type": "markdown",
   "metadata": {},
   "source": []
  },
  {
   "cell_type": "code",
   "execution_count": 1,
   "metadata": {},
   "outputs": [
    {
     "name": "stdout",
     "output_type": "stream",
     "text": [
      "./data/algebra05/real-model.sav - 1.3240928649902344\n",
      "./data/assistments09/real-model.sav - 0.13869667053222656\n",
      "./data/assistments12/real-model.sav - 0.41005897521972656\n",
      "./data/assistments15/real-model.sav - 0.0038318634033203125\n",
      "./data/assistments17/real-model.sav - 0.027238845825195312\n",
      "./data/bridge_algebra06/real-model.sav - 0.9982643127441406\n",
      "./data/spanish/real-model.sav - 0.008958816528320312\n",
      "./data/statics/real-model.sav - 0.012353897094726562\n"
     ]
    }
   ],
   "source": [
    "import os\n",
    "files = [f'./data/{f}/real-model.sav'for f in os.listdir('./data')]\n",
    "for f in files:\n",
    "  size = os.path.getsize(f)\n",
    "  print(f\"{f} - {size/(1024*1024)}\")\n"
   ]
  },
  {
   "cell_type": "markdown",
   "metadata": {},
   "source": [
    "What do I need to do?\n",
    "\n",
    "- Fit BestLR and the use it to generate data + know the ground truth\n",
    "- Try to fit Both BestLR, PFA, and DKT on the generated data\n",
    "\n",
    "\n",
    "assisstments09, assistments15, spanish, algebra05"
   ]
  },
  {
   "cell_type": "code",
   "execution_count": 112,
   "metadata": {},
   "outputs": [
    {
     "name": "stdout",
     "output_type": "stream",
     "text": [
      "algebra05: There is != 1\n",
      "assistments09: There is != 1\n",
      "assistments15: Ok!\n",
      "assistments17: There is != 1\n",
      "bridge_algebra06: There is != 1\n",
      "spanish: Ok!\n",
      "statics: Ok!\n",
      "assistments12: Ok!\n"
     ]
    }
   ],
   "source": [
    "dataset = \"statics\"\n",
    "\n",
    "def check_q_all_one(dataset):\n",
    "  dir_path = f\"./data/real/{dataset}\"\n",
    "  df = pd.read_csv(os.path.join(dir_path, \"preprocessed_data.csv\"), sep=\"\\t\")\n",
    "  df = df[[\"user_id\", \"item_id\", \"timestamp\", \"correct\", \"skill_id\"]]\n",
    "  Q_mat = sparse.load_npz(os.path.join(dir_path, 'q_mat.npz')).toarray()\n",
    "\n",
    "  if any([sum(q) != 1 for q in Q_mat]):\n",
    "    print(f'{dataset}: There is != 1')\n",
    "  else:\n",
    "    print(f'{dataset}: Ok!')\n",
    "\n",
    "# datasets = [f for f in os.listdir('./data/real')]\n",
    "datasets = ['algebra05', 'assistments09', 'assistments15', 'assistments17', 'bridge_algebra06', 'spanish', 'statics', 'assistments12']\n",
    "for d in datasets:\n",
    "  check_q_all_one(d)\n",
    "\n",
    "# check_q_all_one('algebra05')\n"
   ]
  },
  {
   "cell_type": "code",
   "execution_count": 47,
   "metadata": {},
   "outputs": [
    {
     "name": "stdout",
     "output_type": "stream",
     "text": [
      "start ...\n",
      "  (0, 66)\t1.0\n",
      "  (0, 160001)\t1.0\n",
      "  (1, 66)\t1.0\n",
      "  (1, 178)\t0.6931471805599453\n",
      "  (1, 225)\t0.6931471805599453\n",
      "  (1, 292)\t0.6931471805599453\n",
      "  (1, 339)\t0.6931471805599453\n",
      "  (1, 160002)\t1.0\n",
      "  (2, 83)\t1.0\n",
      "  (2, 87)\t1.0\n",
      "  (2, 225)\t1.0986122886681098\n",
      "  (2, 339)\t1.0986122886681098\n",
      "  (2, 160005)\t1.0\n",
      "  (3, 30)\t1.0\n",
      "  (3, 72)\t1.0\n",
      "  (3, 101)\t1.0\n",
      "  (3, 225)\t1.3862943611198906\n",
      "  (3, 339)\t1.3862943611198906\n",
      "  (3, 160006)\t1.0\n",
      "  (4, 30)\t1.0\n",
      "  (4, 72)\t1.0\n",
      "  (4, 101)\t1.0\n",
      "  (4, 142)\t0.6931471805599453\n",
      "  (4, 184)\t0.6931471805599453\n",
      "  (4, 213)\t0.6931471805599453\n",
      "  :\t:\n",
      "  (1128, 20)\t1.0\n",
      "  (1128, 29)\t1.0\n",
      "  (1128, 42)\t1.0\n",
      "  (1128, 132)\t4.382026634673881\n",
      "  (1128, 141)\t3.2188758248682006\n",
      "  (1128, 154)\t4.343805421853684\n",
      "  (1128, 224)\t0.6931471805599453\n",
      "  (1128, 225)\t7.029087564149662\n",
      "  (1128, 246)\t3.5263605246161616\n",
      "  (1128, 255)\t2.3978952727983707\n",
      "  (1128, 268)\t3.8066624897703196\n",
      "  (1128, 339)\t6.525029657843462\n",
      "  (1128, 157966)\t1.0\n",
      "  (1129, 20)\t1.0\n",
      "  (1129, 132)\t4.394449154672439\n",
      "  (1129, 225)\t7.029972911706386\n",
      "  (1129, 246)\t3.5553480614894135\n",
      "  (1129, 339)\t6.52649485957079\n",
      "  (1129, 157918)\t1.0\n",
      "  (1130, 107)\t1.0\n",
      "  (1130, 219)\t3.2188758248682006\n",
      "  (1130, 225)\t7.030857476116121\n",
      "  (1130, 333)\t3.2188758248682006\n",
      "  (1130, 339)\t6.52649485957079\n",
      "  (1130, 158143)\t1.0\n",
      "---\n",
      "Timespent:  0.033083200454711914 s\n"
     ]
    }
   ],
   "source": [
    "from importlib import reload\n",
    "import encode_fast as ef\n",
    "# import encode as ec\n",
    "from scipy import sparse\n",
    "import os, time\n",
    "\n",
    "reload(ef)\n",
    "\n",
    "dataset = \"algebra05\"\n",
    "\n",
    "dir_path = f\"./data/real/{dataset}\"\n",
    "df = pd.read_csv(os.path.join(dir_path, \"preprocessed_data.csv\"), sep=\"\\t\")\n",
    "df = df[[\"user_id\", \"item_id\", \"timestamp\", \"correct\", \"skill_id\"]]\n",
    "Q_mat = sparse.load_npz(os.path.join(dir_path, 'q_mat.npz')).toarray()\n",
    "\n",
    "# Transform q-matrix into dictionary for fast lookup\n",
    "num_items, num_skills = Q_mat.shape\n",
    "Q_mat_dict = {i: set() for i in range(num_items)}\n",
    "for i, j in np.argwhere(Q_mat == 1):\n",
    "    Q_mat_dict[i].add(j)\n",
    "\n",
    "active_features = ['i', 's', 'ic', 'sc', 'tc', 'w', 'a']\n",
    "print('start ...')\n",
    "start = time.time()\n",
    "X = ef.df_to_sparse(df, Q_mat, active_features)\n",
    "print(X[:,5:])\n",
    "print('---')\n",
    "end = time.time()\n",
    "print('Timespent: ', (end-start), 's')\n",
    "\n",
    "# 3 seconds"
   ]
  },
  {
   "cell_type": "code",
   "execution_count": 36,
   "metadata": {},
   "outputs": [
    {
     "name": "stdout",
     "output_type": "stream",
     "text": [
      "[0, 1, 2, 3, 4, 5, 6, 7, 8, 9, 10, 11, 12, 13, 14, 15, 16, 17, 18, 19, 20, 21, 22, 23, 24, 25, 26, 27, 28, 29, 30, 31, 32, 33, 34, 35, 36, 37, 38, 39, 40, 41, 42, 43, 44, 45, 46, 47, 48, 49, 50, 51, 52, 53, 54, 55, 56, 57, 58, 59, 60, 61, 62, 63, 64, 65, 66, 67, 68, 69, 70, 71, 72, 73, 74, 75, 76, 77, 78, 79, 80, 81, 82, 83, 84, 85, 86, 87, 88, 89, 90, 91, 92, 93, 94, 95, 96, 97, 98, 99, 100, 101, 102, 103, 104, 105, 106, 107, 108, 109, 110, 111, 112, 113, 114, 115, 116, 117, 118, 119, 120, 121, 122, 123, 124, 125, 126, 127, 128, 129, 130, 131, 132, 133, 134, 135, 136, 137, 138, 139, 140, 141, 142, 143, 144, 145, 146, 147, 148, 149, 150, 151, 152, 153, 154, 155, 156, 157, 158, 159, 160, 161, 162, 163, 164, 165, 166, 167, 168, 169, 170, 171, 172, 173, 174, 175, 176, 177, 178, 179, 180, 181, 182, 183, 184, 185, 186, 187, 188, 189, 190, 191, 192, 193, 194, 195, 196, 197, 198, 199, 200, 201, 202, 203, 204, 205, 206, 207, 208, 209, 210, 211, 212, 213, 214, 215, 216, 217, 218, 219, 220, 221, 222, 223, 224, 225, 226, 227, 228, 229, 230, 231, 232, 233, 234, 235, 236, 237, 238, 239, 240, 241, 242, 243, 244, 245, 246, 247, 248, 249, 250, 251, 252, 253, 254, 255, 256, 257, 258, 259, 260, 261, 262, 263, 264, 265, 266, 267, 268, 269, 270, 271, 272, 273, 274, 275, 276, 277, 278, 279, 280, 281, 282, 283, 284, 285, 286, 287, 288, 289, 290, 291, 292, 293, 294, 295, 296, 297, 298, 299, 300, 301, 302, 303, 304, 305, 306, 307, 308, 309, 310, 311, 312, 313, 314, 315, 316, 317, 318, 319, 320, 321, 322, 323, 324, 325, 326, 327, 328, 329, 330, 331, 332, 333, 334, 335, 336, 337, 338, 339, 340, 341, 342, 343, 344, 345, 346, 347, 348, 349, 350, 351, 352, 353, 354, 355, 356, 357, 358, 359, 360, 361, 362, 363, 364, 365, 366, 367, 368, 369, 370, 371, 372, 373, 374, 375, 376, 377, 378, 379, 380, 381, 382, 383, 384, 385, 386, 387, 388, 389, 390, 391, 392, 393, 394, 395, 396, 397, 398, 399, 400, 401, 402, 403, 404, 405, 406, 407, 408, 409, 410, 411, 412, 413, 414, 415, 416, 417, 418, 419, 420, 421, 422, 423, 424, 425, 426, 427, 428, 429, 430, 431, 432, 433, 434, 435, 436, 437, 438, 439, 440, 441, 442, 443, 444, 445, 446, 447, 448, 449, 450, 451, 452, 453, 454, 455, 456, 457, 458, 459, 460, 461, 462, 463, 464, 465, 466, 467, 468, 469, 470, 471, 472, 473, 474, 475, 476, 477, 478, 479, 480, 481, 482, 483, 484, 485, 486, 487, 488, 489, 490, 491, 492, 493, 494, 495, 496, 497, 498, 499, 500, 501, 502, 503, 504, 505, 506, 507, 508, 509, 510, 511, 512, 513, 514, 515, 516, 517, 518, 519, 520, 521, 522, 523, 524, 525, 526, 527, 528, 529, 530, 531, 532, 533, 534, 535, 536, 537, 538, 539, 540, 541, 542, 543, 544, 545, 546, 547, 548, 549, 550, 551, 552, 553, 554, 555, 556, 557, 558, 559, 560, 561, 562, 563, 564, 565, 566, 567, 568, 569, 570, 571, 572, 573, 574, 575, 576, 577, 578, 579, 580, 581, 582, 583, 584, 585, 586, 587, 588, 589, 590, 591, 592, 593, 594, 595, 596, 597, 598, 599, 600, 601, 602, 603, 604, 605, 606, 607, 608, 609, 610, 611, 612, 613, 614, 615, 616, 617, 618, 619, 620, 621, 622, 623, 624, 625, 626, 627, 628, 629, 630, 631, 632, 633, 634, 635, 636, 637, 638, 639, 640, 641, 642, 643, 644, 645, 646, 647, 648, 649, 650, 651, 652, 653, 654, 655, 656, 657, 658, 659, 660, 661, 662, 663, 664, 665, 666, 667, 668, 669, 670, 671, 672, 673, 674, 675, 676, 677, 678, 679, 680, 681, 682, 683, 684, 685, 686, 687, 688, 689, 690, 691, 692, 693, 694, 695, 696, 697, 698, 699, 700, 701, 702, 703, 704, 705, 706, 707, 708, 709, 710, 711, 712, 713, 714, 715, 716, 717, 718, 719, 720, 721, 722, 723, 724, 725, 726, 727, 728, 729, 730, 731, 732, 733, 734, 735, 736, 737, 738, 739, 740, 741, 742, 743, 744, 745, 746, 747, 748, 749, 750, 751, 752, 753, 754, 755, 756, 757, 758, 759, 760, 761, 762, 763, 764, 765, 766, 767, 768, 769, 770, 771, 772, 773, 774, 775, 776, 777, 778, 779, 780, 781, 782, 783, 784, 785, 786, 787, 788, 789, 790, 791, 792, 793, 794, 795, 796, 797, 798, 799, 800, 801, 802, 803, 804, 805, 806, 807, 808, 809, 810, 811, 812, 813, 814, 815, 816, 817, 818, 819, 820, 821, 822, 823, 824, 825, 826, 827, 828, 829, 830, 831, 832, 833, 834, 835, 836, 837, 838, 839, 840, 841, 842, 843, 844, 845, 846, 847, 848, 849, 850, 851, 852, 853, 854, 855, 856, 857, 858, 859, 860, 861, 862, 863, 864, 865, 866, 867, 868, 869, 870, 871, 872, 873, 874, 875, 876, 877, 878, 879, 880, 881, 882, 883, 884, 885, 886, 887, 888, 889, 890, 891, 892, 893, 894, 895, 896, 897, 898, 899, 900, 901, 902, 903, 904, 905, 906, 907, 908, 909, 910, 911, 912, 913, 914, 915, 916, 917, 918, 919, 920, 921, 922, 923, 924, 925, 926, 927, 928, 929, 930, 931, 932, 933, 934, 935, 936, 937, 938, 939, 940, 941, 942, 943, 944, 945, 946, 947, 948, 949, 950, 951, 952, 953, 954, 955, 956, 957, 958, 959, 960, 961, 962, 963, 964, 965, 966, 967, 968, 969, 970, 971, 972, 973, 974, 975, 976, 977, 978, 979, 980, 981, 982, 983, 984, 985, 986, 987, 988, 989, 990, 991, 992, 993, 994, 995, 996, 997, 998, 999, 1000, 1001, 1002, 1003, 1004, 1005, 1006, 1007, 1008, 1009, 1010, 1011, 1012, 1013, 1014, 1015, 1016, 1017, 1018, 1019, 1020, 1021, 1022, 1023, 1024, 1025, 1026, 1027, 1028, 1029, 1030, 1031, 1032, 1033, 1034, 1035, 1036, 1037, 1038, 1039, 1040, 1041, 1042, 1043, 1044, 1045, 1046, 1047, 1048, 1049, 1050, 1051, 1052, 1053, 1054, 1055, 1056, 1057, 1058, 1059, 1060, 1061, 1062, 1063, 1064, 1065, 1066, 1067, 1068, 1069, 1070, 1071, 1072, 1073, 1074, 1075, 1076, 1077, 1078, 1079, 1080, 1081, 1082, 1083, 1084, 1085, 1086, 1087, 1088, 1089, 1090, 1091, 1092, 1093, 1094, 1095, 1096, 1097, 1098, 1099, 1100, 1101, 1102, 1103, 1104, 1105, 1106, 1107, 1108, 1109, 1110, 1111, 1112, 1113, 1114, 1115, 1116, 1117, 1118, 1119, 1120, 1121, 1122, 1123, 1124, 1125, 1126, 1127, 1128, 1129, 1130, 1131, 1132, 1133, 1134, 1135, 1136, 1137, 1138, 1139, 1140, 1141, 1142, 1143, 1144, 1145, 1146, 1147, 1148, 1149, 1150, 1151, 1152, 1153, 1154, 1155, 1156, 1157, 1158, 1159, 1160, 1161, 1162, 1163, 1164, 1165, 1166, 1167, 1168, 1169, 1170, 1171, 1172, 1173, 1174, 1175, 1176, 1177, 1178, 1179, 1180, 1181, 1182, 1183, 1184, 1185, 1186, 1187, 1188, 1189, 1190, 1191, 1192, 1193, 1194, 1195, 1196, 1197, 1198, 1199, 1200, 1201, 1202, 1203, 1204, 1205, 1206, 1207, 1208, 1209, 1210, 1211, 1212, 1213, 1214, 1215, 1216, 1217, 1218, 1219, 1220, 1221, 1222]\n"
     ]
    }
   ],
   "source": [
    "dataset = \"statics\"\n",
    "\n",
    "dir_path = f\"./data/real/{dataset}\"\n",
    "df = pd.read_csv(os.path.join(dir_path, \"preprocessed_data.csv\"), sep=\"\\t\")\n",
    "print(sorted(df.item_id.unique()))\n",
    "# df[df.item_id == 0]"
   ]
  },
  {
   "cell_type": "code",
   "execution_count": 26,
   "metadata": {},
   "outputs": [
    {
     "name": "stdout",
     "output_type": "stream",
     "text": [
      "(189297, 1521)\n"
     ]
    }
   ],
   "source": [
    "npz_fp = './data/real/statics/X-isicsctcwa.npz'\n",
    "X = csr_matrix(load_npz(npz_fp))\n",
    "X = X[:, 5:]\n",
    "print(X.shape)"
   ]
  },
  {
   "cell_type": "code",
   "execution_count": null,
   "metadata": {},
   "outputs": [],
   "source": []
  }
 ],
 "metadata": {
  "kernelspec": {
   "display_name": "edm",
   "language": "python",
   "name": "python3"
  },
  "language_info": {
   "codemirror_mode": {
    "name": "ipython",
    "version": 3
   },
   "file_extension": ".py",
   "mimetype": "text/x-python",
   "name": "python",
   "nbconvert_exporter": "python",
   "pygments_lexer": "ipython3",
   "version": "3.7.16"
  },
  "orig_nbformat": 4
 },
 "nbformat": 4,
 "nbformat_minor": 2
}
