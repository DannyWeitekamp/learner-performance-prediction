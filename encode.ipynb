{
 "cells": [
  {
   "cell_type": "code",
   "execution_count": 8,
   "metadata": {},
   "outputs": [],
   "source": [
    "import numpy as np\n",
    "import pandas as pd\n",
    "from tqdm import tqdm\n",
    "\n",
    "import pickle\n",
    "import joblib\n",
    "import os\n",
    "\n",
    "from scipy.sparse import load_npz, csr_matrix, save_npz\n",
    "\n",
    "datasets = ['algebra05', 'assistments09', 'assistments15', 'assistments17', 'bridge_algebra06', 'spanish', 'statics', 'assistments12']\n"
   ]
  },
  {
   "cell_type": "code",
   "execution_count": 6,
   "metadata": {},
   "outputs": [],
   "source": [
    "DATA_DIR = \"/Volumes/NREXT/proj/research/data\"\n",
    "ORIG_SIM_DIR = \"/Volumes/NREXT/proj/research/danny-edm/simulation\"\n",
    "ORIG_REAL_DIR = \"/Volumes/NREXT/proj/research/danny-edm/data/real\"\n",
    "\n",
    "for d in datasets:\n",
    "  # src_file = f\"{DATA_DIR}/real/{d}/simulated-bestlr.csv\"\n",
    "  # src_file = f\"{ORIG_SIM_DIR}/simulated-data-pfa/{d}/{d}.csv\"\n",
    "  # dest_file = f\"{DATA_DIR}/simulation/{d}/pfa/simulated-pfa.csv\"\n",
    "\n",
    "  # print(os.path.dirname(src_file))"
   ]
  },
  {
   "cell_type": "code",
   "execution_count": 9,
   "metadata": {},
   "outputs": [
    {
     "name": "stdout",
     "output_type": "stream",
     "text": [
      "encoding: /Volumes/NREXT/proj/research/data/simulation/algebra05/pfa/simulated-pfa.csv\n"
     ]
    }
   ],
   "source": [
    "import encode_fast as ef\n",
    "\n",
    "BESTLR_ACTIVE_FEATURES = ['i', 's', 'ic', 'sc', 'tc', 'w', 'a']\n",
    "PFA_ACTIVE_FEATURES = ['s', 'sc', 'w', 'a']\n",
    "\n",
    "def encode(features, fp, dataset):\n",
    "  print(f\"encoding: {fp}\")\n",
    "\n",
    "  df = pd.read_csv(fp, sep=\"\\t\")\n",
    "  df = df[[\"user_id\", \"item_id\", \"timestamp\", \"correct\", \"skill_id\"]]\n",
    "  Q_mat = load_npz(os.path.join(ORIG_REAL_DIR, dataset, 'q_mat.npz')).toarray()\n",
    "\n",
    "  all_features = ['u', 'i', 's', 'ic', 'sc', 'tc', 'w', 'a', 'tw']\n",
    "  active_features = [f for f in all_features if f in features]\n",
    "  features_suffix = ''.join(active_features)\n",
    "\n",
    "  X = ef.df_to_sparse(df, Q_mat, active_features)\n",
    "  save_npz(os.path.join(os.path.dirname(fp), f\"X-{features_suffix}\"), X)\n",
    "\n",
    "encode(PFA_ACTIVE_FEATURES, f\"{DATA_DIR}/simulation/algebra05/pfa/simulated-pfa.csv\", \"algebra05\")"
   ]
  },
  {
   "cell_type": "code",
   "execution_count": 10,
   "metadata": {},
   "outputs": [
    {
     "name": "stdout",
     "output_type": "stream",
     "text": [
      "encoding: /Volumes/NREXT/proj/research/data/simulation/algebra05/bestlr/simulated-bestlr.csv\n",
      "encoding: /Volumes/NREXT/proj/research/data/simulation/algebra05/bestlr/simulated-bestlr.csv\n",
      "encoding: /Volumes/NREXT/proj/research/data/simulation/algebra05/pfa/simulated-pfa.csv\n",
      "encoding: /Volumes/NREXT/proj/research/data/simulation/algebra05/pfa/simulated-pfa.csv\n",
      "encoding: /Volumes/NREXT/proj/research/data/simulation/algebra05/dkt/simulated-dkt.csv\n",
      "encoding: /Volumes/NREXT/proj/research/data/simulation/algebra05/dkt/simulated-dkt.csv\n",
      "encoding: /Volumes/NREXT/proj/research/data/simulation/assistments09/bestlr/simulated-bestlr.csv\n",
      "encoding: /Volumes/NREXT/proj/research/data/simulation/assistments09/bestlr/simulated-bestlr.csv\n",
      "encoding: /Volumes/NREXT/proj/research/data/simulation/assistments09/pfa/simulated-pfa.csv\n",
      "encoding: /Volumes/NREXT/proj/research/data/simulation/assistments09/pfa/simulated-pfa.csv\n",
      "encoding: /Volumes/NREXT/proj/research/data/simulation/assistments09/dkt/simulated-dkt.csv\n",
      "encoding: /Volumes/NREXT/proj/research/data/simulation/assistments09/dkt/simulated-dkt.csv\n",
      "encoding: /Volumes/NREXT/proj/research/data/simulation/assistments15/bestlr/simulated-bestlr.csv\n",
      "encoding: /Volumes/NREXT/proj/research/data/simulation/assistments15/bestlr/simulated-bestlr.csv\n",
      "encoding: /Volumes/NREXT/proj/research/data/simulation/assistments15/pfa/simulated-pfa.csv\n",
      "encoding: /Volumes/NREXT/proj/research/data/simulation/assistments15/pfa/simulated-pfa.csv\n",
      "encoding: /Volumes/NREXT/proj/research/data/simulation/assistments15/dkt/simulated-dkt.csv\n",
      "encoding: /Volumes/NREXT/proj/research/data/simulation/assistments15/dkt/simulated-dkt.csv\n",
      "encoding: /Volumes/NREXT/proj/research/data/simulation/assistments17/bestlr/simulated-bestlr.csv\n",
      "encoding: /Volumes/NREXT/proj/research/data/simulation/assistments17/bestlr/simulated-bestlr.csv\n",
      "encoding: /Volumes/NREXT/proj/research/data/simulation/assistments17/pfa/simulated-pfa.csv\n",
      "encoding: /Volumes/NREXT/proj/research/data/simulation/assistments17/pfa/simulated-pfa.csv\n",
      "encoding: /Volumes/NREXT/proj/research/data/simulation/assistments17/dkt/simulated-dkt.csv\n",
      "encoding: /Volumes/NREXT/proj/research/data/simulation/assistments17/dkt/simulated-dkt.csv\n",
      "encoding: /Volumes/NREXT/proj/research/data/simulation/bridge_algebra06/bestlr/simulated-bestlr.csv\n",
      "encoding: /Volumes/NREXT/proj/research/data/simulation/bridge_algebra06/bestlr/simulated-bestlr.csv\n",
      "encoding: /Volumes/NREXT/proj/research/data/simulation/bridge_algebra06/pfa/simulated-pfa.csv\n",
      "encoding: /Volumes/NREXT/proj/research/data/simulation/bridge_algebra06/pfa/simulated-pfa.csv\n",
      "encoding: /Volumes/NREXT/proj/research/data/simulation/bridge_algebra06/dkt/simulated-dkt.csv\n",
      "encoding: /Volumes/NREXT/proj/research/data/simulation/bridge_algebra06/dkt/simulated-dkt.csv\n",
      "encoding: /Volumes/NREXT/proj/research/data/simulation/spanish/bestlr/simulated-bestlr.csv\n",
      "encoding: /Volumes/NREXT/proj/research/data/simulation/spanish/bestlr/simulated-bestlr.csv\n",
      "encoding: /Volumes/NREXT/proj/research/data/simulation/spanish/pfa/simulated-pfa.csv\n",
      "encoding: /Volumes/NREXT/proj/research/data/simulation/spanish/pfa/simulated-pfa.csv\n",
      "encoding: /Volumes/NREXT/proj/research/data/simulation/spanish/dkt/simulated-dkt.csv\n",
      "encoding: /Volumes/NREXT/proj/research/data/simulation/spanish/dkt/simulated-dkt.csv\n",
      "encoding: /Volumes/NREXT/proj/research/data/simulation/statics/bestlr/simulated-bestlr.csv\n",
      "encoding: /Volumes/NREXT/proj/research/data/simulation/statics/bestlr/simulated-bestlr.csv\n",
      "encoding: /Volumes/NREXT/proj/research/data/simulation/statics/pfa/simulated-pfa.csv\n",
      "encoding: /Volumes/NREXT/proj/research/data/simulation/statics/pfa/simulated-pfa.csv\n",
      "encoding: /Volumes/NREXT/proj/research/data/simulation/statics/dkt/simulated-dkt.csv\n",
      "encoding: /Volumes/NREXT/proj/research/data/simulation/statics/dkt/simulated-dkt.csv\n",
      "encoding: /Volumes/NREXT/proj/research/data/simulation/assistments12/bestlr/simulated-bestlr.csv\n"
     ]
    },
    {
     "ename": "",
     "evalue": "",
     "output_type": "error",
     "traceback": [
      "\u001b[1;31mThe Kernel crashed while executing code in the current cell or a previous cell. \n",
      "\u001b[1;31mPlease review the code in the cell(s) to identify a possible cause of the failure. \n",
      "\u001b[1;31mClick <a href='https://aka.ms/vscodeJupyterKernelCrash'>here</a> for more info. \n",
      "\u001b[1;31mView Jupyter <a href='command:jupyter.viewOutput'>log</a> for further details."
     ]
    }
   ],
   "source": [
    "for d in datasets:\n",
    "  for model in ['bestlr', 'pfa', 'dkt']:\n",
    "    fp = f\"{DATA_DIR}/simulation/{d}/{model}/simulated-{model}.csv\"\n",
    "    encode(BESTLR_ACTIVE_FEATURES, fp, d)\n",
    "    encode(PFA_ACTIVE_FEATURES, fp, d)"
   ]
  },
  {
   "cell_type": "code",
   "execution_count": null,
   "metadata": {},
   "outputs": [],
   "source": []
  }
 ],
 "metadata": {
  "kernelspec": {
   "display_name": "theo",
   "language": "python",
   "name": "python3"
  },
  "language_info": {
   "codemirror_mode": {
    "name": "ipython",
    "version": 3
   },
   "file_extension": ".py",
   "mimetype": "text/x-python",
   "name": "python",
   "nbconvert_exporter": "python",
   "pygments_lexer": "ipython3",
   "version": "3.7.16"
  }
 },
 "nbformat": 4,
 "nbformat_minor": 2
}
